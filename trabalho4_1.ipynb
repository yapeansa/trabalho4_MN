{
 "cells": [
  {
   "cell_type": "code",
   "execution_count": 1,
   "id": "a439aabc",
   "metadata": {},
   "outputs": [],
   "source": [
    "import numpy as np"
   ]
  },
  {
   "cell_type": "code",
   "execution_count": 2,
   "id": "ee1831b0",
   "metadata": {},
   "outputs": [],
   "source": [
    "# Implementação do algoritmo para o Método do Trapézio\n",
    "def metodo_trapezio(x, y):\n",
    "    n = len(x)\n",
    "    area = 0.0\n",
    "\n",
    "    # O loop vai de 0 até n - 2\n",
    "    for i in range(n - 1):\n",
    "        h = x[i+1] - x[i]  # Cálculo da altura do trapézio\n",
    "        b = y[i+1] + y[i]  # Soma das bases do trapézio\n",
    "        area_parcial = b*h*0.5  # Cálculo da área parcial em cada subintervalo\n",
    "        area += area_parcial\n",
    "\n",
    "    area -= 4  # Subtraindo 4 unidades da área obtida\n",
    "    return area"
   ]
  },
  {
   "cell_type": "code",
   "execution_count": 3,
   "id": "523d03b0",
   "metadata": {},
   "outputs": [],
   "source": [
    "def main():\n",
    "    # Dados da tabela\n",
    "    x = np.array([0.9, 1.3, 1.9, 2.1, 2.6, 3.0, 3.9, 4.4, 4.7, 5.0, 6.0,\n",
    "                  7.0, 8.0, 9.2, 10.5, 11.3, 11.6, 12.0, 12.6, 13.0, 13.3])\n",
    "    f_x = np.array([1.3, 1.5, 1.85, 2.1, 2.6, 2.7, 2.4, 2.15, 2.05, 2.1, 2.25,\n",
    "                    2.3, 2.25, 1.95, 1.4, 0.9, 0.7, 0.6, 0.5, 0.4, 0.25])\n",
    "\n",
    "    integral = metodo_trapezio(x, f_x)\n",
    "    print(f\"Imprementação direta do método do trapézio: {integral:.6f}.\")\n",
    "\n",
    "    # Para comparação com a implementação anterior:\n",
    "    integral_trapz = np.trapz(f_x, x)\n",
    "    print(f\"Usando numpy.trapz: {integral_trapz-4:.6f}\")"
   ]
  },
  {
   "cell_type": "code",
   "execution_count": 4,
   "id": "5fbf8f00",
   "metadata": {},
   "outputs": [
    {
     "name": "stdout",
     "output_type": "stream",
     "text": [
      "Imprementação direta do método do trapézio: 18.330000.\n",
      "Usando numpy.trapz: 18.330000\n"
     ]
    }
   ],
   "source": [
    "if __name__ == '__main__':\n",
    "    main()"
   ]
  },
  {
   "cell_type": "code",
   "execution_count": null,
   "id": "71a28271",
   "metadata": {},
   "outputs": [],
   "source": []
  }
 ],
 "metadata": {
  "kernelspec": {
   "display_name": "Python 3",
   "language": "python",
   "name": "python3"
  },
  "language_info": {
   "codemirror_mode": {
    "name": "ipython",
    "version": 3
   },
   "file_extension": ".py",
   "mimetype": "text/x-python",
   "name": "python",
   "nbconvert_exporter": "python",
   "pygments_lexer": "ipython3",
   "version": "3.12.3"
  }
 },
 "nbformat": 4,
 "nbformat_minor": 5
}
