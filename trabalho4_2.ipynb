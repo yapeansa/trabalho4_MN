{
 "cells": [
  {
   "cell_type": "code",
   "execution_count": 1,
   "id": "4bfd26c8",
   "metadata": {},
   "outputs": [],
   "source": [
    "import numpy as np"
   ]
  },
  {
   "cell_type": "markdown",
   "id": "ea56bd76",
   "metadata": {},
   "source": [
    "Definição do polinômio $ f(x) = \\sum_{i = 0}^{5}(i + 1)\\,x^{i} = 1 + 2\\,x + 3\\,x^{2} + 4\\,x^{3} + 5\\,x^{4} + 6\\,x^{5} $."
   ]
  },
  {
   "cell_type": "code",
   "execution_count": 2,
   "id": "d9006b3d",
   "metadata": {},
   "outputs": [],
   "source": [
    "# Definindo o polinômio\n",
    "def f(x):\n",
    "    ans = 0\n",
    "    for i in range(6):\n",
    "        ans += (i + 1)*x**i\n",
    "    return ans"
   ]
  },
  {
   "cell_type": "markdown",
   "id": "5e43199e",
   "metadata": {},
   "source": [
    "Fórmula obtida para integração numérica:\n",
    "$$ \\int_{-1}^{1}f(x)\\,dx = \\frac{1}{6}\\,f(-1) + \\frac{5}{6}\\,f\\left(-\\frac{1}{\\sqrt{5}} \\right) + \\frac{5}{6}\\,f\\left(\\frac{1}{\\sqrt{5}}\\right) + \\frac{1}{6}\\,f(1). $$"
   ]
  },
  {
   "cell_type": "code",
   "execution_count": 3,
   "id": "e66af978",
   "metadata": {},
   "outputs": [],
   "source": [
    "# Implementado o método para integração numérica\n",
    "def metodo_quadratura(f):\n",
    "    c1 = 1/6\n",
    "    c2 = 5/6\n",
    "    c3 = c2\n",
    "    c4 = c1\n",
    "    t2 = -1/np.sqrt(5)\n",
    "    t3 = -t2\n",
    "    resultado = c1*f(-1) + c2*f(t2) + c3*f(t3) + c4*f(1)\n",
    "    return resultado"
   ]
  },
  {
   "cell_type": "code",
   "execution_count": 4,
   "id": "a6fb1898",
   "metadata": {},
   "outputs": [],
   "source": [
    "def main():\n",
    "    print(f\"Aplicando a fórmula de integração numérica para o polinômio f: I = {metodo_quadratura(f)}.\")"
   ]
  },
  {
   "cell_type": "code",
   "execution_count": 5,
   "id": "ba8ee224",
   "metadata": {},
   "outputs": [
    {
     "name": "stdout",
     "output_type": "stream",
     "text": [
      "Aplicando a fórmula de integração numérica para o polinômio f: I = 6.0.\n"
     ]
    }
   ],
   "source": [
    "if __name__ == '__main__':\n",
    "    main()"
   ]
  },
  {
   "cell_type": "code",
   "execution_count": null,
   "id": "030bbe56",
   "metadata": {},
   "outputs": [],
   "source": []
  }
 ],
 "metadata": {
  "kernelspec": {
   "display_name": "Python 3",
   "language": "python",
   "name": "python3"
  },
  "language_info": {
   "codemirror_mode": {
    "name": "ipython",
    "version": 3
   },
   "file_extension": ".py",
   "mimetype": "text/x-python",
   "name": "python",
   "nbconvert_exporter": "python",
   "pygments_lexer": "ipython3",
   "version": "3.12.3"
  }
 },
 "nbformat": 4,
 "nbformat_minor": 5
}
